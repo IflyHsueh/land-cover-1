{
 "cells": [
  {
   "cell_type": "code",
   "execution_count": null,
   "metadata": {},
   "outputs": [],
   "source": [
    "import os\n",
    "import json\n",
    "import pandas as pd"
   ]
  },
  {
   "cell_type": "code",
   "execution_count": null,
   "metadata": {},
   "outputs": [],
   "source": [
    "new_to_old_map = {}\n",
    "f = open(\"../data/2013-2014_to_2011-2012.csv\", \"r\")\n",
    "f.readline()\n",
    "lines = f.read().strip().split(\"\\n\")\n",
    "for line in lines:\n",
    "    parts = line.split(\",\")\n",
    "    u = os.path.basename(parts[0])[:-4] + \"_lc.tif\"\n",
    "    v = os.path.basename(parts[1])[:-4] + \"_lc.tif\"\n",
    "    new_to_old_map[u] = v\n",
    "f.close()"
   ]
  },
  {
   "cell_type": "code",
   "execution_count": null,
   "metadata": {},
   "outputs": [],
   "source": [
    "states = [\n",
    "    \"de_1m_2013\", # 107 tiles\n",
    "    \"ny_1m_2013\", # 407 tiles\n",
    "    \"md_1m_2013\", # 691 tiles\n",
    "    \"pa_1m_2013\", # 2239 tiles\n",
    "    \"wv_1m_2014\", # 292 tiles\n",
    "    \"va_1m_2014\"  # 1238 tiles\n",
    "]"
   ]
  },
  {
   "cell_type": "code",
   "execution_count": null,
   "metadata": {},
   "outputs": [],
   "source": [
    "fn_mapping = {}\n",
    "for state in states:\n",
    "    for ds in [\"train\", \"val\", \"test\"]:\n",
    "        f = open(\"../splits/%s_%s.txt\" % (state, ds),\"r\")\n",
    "        fns = [\n",
    "            os.path.basename(fn)\n",
    "            for fn in f.read().strip().split(\"\\n\")\n",
    "        ]\n",
    "        f.close()\n",
    "\n",
    "        f = open(\"../../data/%s_%s_tiles.csv\" % (state, ds), \"w\")\n",
    "        f.write(\"id,naip_fn,nlcd_fn,lc_fn\\n\")\n",
    "        for i, lc_fn in enumerate(fns):\n",
    "            f.write(\"%d,%s,%s,%s\\n\" % (\n",
    "                i,\n",
    "                \"%s_%s_tiles/%s\" % (state, ds, lc_fn[:-7] + \"_naip.tif\"),\n",
    "                \"%s_%s_tiles/%s\" % (state, ds, new_to_old_map[lc_fn][:-7] + \"_nlcd.tif\"),\n",
    "                \"%s_%s_tiles/%s\" % (state, ds, lc_fn),\n",
    "            ))\n",
    "            fn_mapping[(state,ds,lc_fn)] = i\n",
    "        f.close()"
   ]
  },
  {
   "cell_type": "code",
   "execution_count": null,
   "metadata": {},
   "outputs": [],
   "source": [
    "BASE_DIR = \"../../data/\"\n",
    "for state in states:\n",
    "    for ds in [\"train\", \"val\", \"test\"]:\n",
    "        \n",
    "        df = pd.read_csv(\"../../data/%s_%s_tiles.csv\" % (state, ds))\n",
    "\n",
    "        for fn in df[\"naip_fn\"].values:\n",
    "            assert os.path.exists(os.path.join(BASE_DIR, fn))\n",
    "        for fn in df[\"lc_fn\"].values:\n",
    "            assert os.path.exists(os.path.join(BASE_DIR, fn)), fn\n",
    "        for fn in df[\"nlcd_fn\"].values:\n",
    "            assert os.path.exists(os.path.join(BASE_DIR, fn))"
   ]
  },
  {
   "cell_type": "code",
   "execution_count": null,
   "metadata": {},
   "outputs": [],
   "source": [
    "LC_VALS = [1, 2, 3, 4, 5, 6, 15]\n",
    "NLCD_VALS = [0, 11, 12, 21, 22, 23, 24, 31, 41, 42, 43, 51, 52, 71, 72, 73, 74, 81, 82, 90, 95, 255]\n",
    "\n",
    "LC_HEADER_STRING = ','.join([\n",
    "    \"lc_class_%d_count\" % (val)\n",
    "    for val in LC_VALS\n",
    "])\n",
    "NLCD_HEADER_STRING = ','.join([\n",
    "    \"nlcd_class_%d_count\" % (val)\n",
    "    for val in NLCD_VALS\n",
    "])\n",
    "\n",
    "for state in states:\n",
    "    for ds in [\"train\", \"val\"]:\n",
    "        \n",
    "        f = open(\"../splits/%s_%s_metadata.csv\" % (state, ds),\"r\")\n",
    "        lines = [\n",
    "            line.strip().split(\",\")\n",
    "            for line in f.read().strip().split(\"\\n\")\n",
    "        ]\n",
    "        f.close()\n",
    "\n",
    "        \n",
    "        f = open(\"../../data/%s_%s_patches.csv\" % (state, ds), \"w\")\n",
    "        f.write(\"patch_id,patch_fn,tile_id,x_coord,y_coord,size,%s,%s\\n\" % (LC_HEADER_STRING, NLCD_HEADER_STRING))\n",
    "        for i, row in enumerate(lines):\n",
    "            patch_fn = \"%s_%s_patches/%s\" % (state, ds, os.path.basename(row[0]))\n",
    "            lc_fn = os.path.basename(row[1])[:-4] + \"_lc.tif\"\n",
    "            tile_id = fn_mapping[(state,ds,lc_fn)]\n",
    "            x_coord = int(row[2])\n",
    "            y_coord = int(row[3])\n",
    "            size = 240\n",
    "            remainder = row[4:]\n",
    "            \n",
    "            f.write(\"%d,%s,%d,%d,%d,%d,%s\\n\" % (\n",
    "                i,\n",
    "                patch_fn,\n",
    "                tile_id,\n",
    "                x_coord,\n",
    "                y_coord,\n",
    "                size,\n",
    "                ','.join(remainder)\n",
    "            ))\n",
    "        \n",
    "        f.close()"
   ]
  },
  {
   "cell_type": "code",
   "execution_count": null,
   "metadata": {},
   "outputs": [],
   "source": [
    "for state in states:\n",
    "    for ds in [\"train\", \"val\"]:\n",
    "        \n",
    "        f = open(\"../splits/%s_%s_shapes.txt\" % (state, ds),\"r\")\n",
    "        lines = f.read().strip().split(\"\\n\")\n",
    "        f.close()\n",
    "        print(len(lines))\n",
    "        \n",
    "        geojson = {\n",
    "            \"type\": \"FeatureCollection\",\n",
    "            \"crs\": { \"type\": \"name\", \"properties\": { \"name\": \"urn:ogc:def:crs:OGC:1.3:CRS84\" } },\n",
    "            \"features\": [\n",
    "                { \"type\": \"Feature\", \"properties\": { \"patch_id\": i}, \"geometry\": json.loads(line)}\n",
    "                for i, line in enumerate(lines)\n",
    "            ]\n",
    "        }\n",
    "        \n",
    "        f = open(\"../../data/%s_%s_patches.geojson\" % (state, ds), \"w\")\n",
    "        f.write(json.dumps(geojson))\n",
    "        f.close()"
   ]
  },
  {
   "cell_type": "code",
   "execution_count": null,
   "metadata": {},
   "outputs": [],
   "source": []
  }
 ],
 "metadata": {
  "kernelspec": {
   "display_name": "Python 3.5",
   "language": "python",
   "name": "python3"
  },
  "language_info": {
   "codemirror_mode": {
    "name": "ipython",
    "version": 3
   },
   "file_extension": ".py",
   "mimetype": "text/x-python",
   "name": "python",
   "nbconvert_exporter": "python",
   "pygments_lexer": "ipython3",
   "version": "3.5.5"
  }
 },
 "nbformat": 4,
 "nbformat_minor": 2
}
