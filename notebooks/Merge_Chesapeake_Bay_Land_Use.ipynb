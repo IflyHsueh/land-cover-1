{
 "cells": [
  {
   "cell_type": "code",
   "execution_count": 1,
   "metadata": {},
   "outputs": [],
   "source": [
    "%matplotlib inline\n",
    "import sys, os, time\n",
    "import numpy as np\n",
    "import pandas as pd\n",
    "\n",
    "import matplotlib.pyplot as plt\n",
    "\n",
    "import rasterio\n",
    "import fiona\n",
    "import fiona.transform\n",
    "import shapely.geometry\n",
    "\n",
    "import subprocess"
   ]
  },
  {
   "cell_type": "code",
   "execution_count": 13,
   "metadata": {},
   "outputs": [],
   "source": [
    "BASE_DIR = \"/home/caleb/data/\"\n",
    "OUTPUT_DIR = \"/home/caleb/data/landuse/\""
   ]
  },
  {
   "cell_type": "code",
   "execution_count": 11,
   "metadata": {},
   "outputs": [],
   "source": [
    "tile_list_fns = [fn for fn in os.listdir(BASE_DIR) if \"_tiles.csv\" in fn and \"extended\" in fn] "
   ]
  },
  {
   "cell_type": "code",
   "execution_count": 17,
   "metadata": {},
   "outputs": [
    {
     "name": "stdout",
     "output_type": "stream",
     "text": [
      "pa_1m_2013_extended-test_tiles.csv\n",
      "md_1m_2013_extended-test_tiles.csv\n",
      "va_1m_2014_extended-test_tiles.csv\n",
      "pa_1m_2013_extended-val_tiles.csv\n",
      "wv_1m_2014_extended-train_tiles.csv\n",
      "ny_1m_2013_extended-test_tiles.csv\n",
      "de_1m_2013_extended-test_tiles.csv\n",
      "de_1m_2013_extended-train_tiles.csv\n",
      "va_1m_2014_extended-val_tiles.csv\n",
      "va_1m_2014_extended-train_tiles.csv\n",
      "de_1m_2013_extended-val_tiles.csv\n",
      "pa_1m_2013_extended-train_tiles.csv\n",
      "wv_1m_2014_extended-test_tiles.csv\n",
      "md_1m_2013_extended-train_tiles.csv\n",
      "md_1m_2013_extended-val_tiles.csv\n",
      "ny_1m_2013_extended-val_tiles.csv\n",
      "wv_1m_2014_extended-val_tiles.csv\n",
      "ny_1m_2013_extended-train_tiles.csv\n"
     ]
    }
   ],
   "source": [
    "for tile_list_fn in tile_list_fns:\n",
    "    print(tile_list_fn)\n",
    "    df = pd.read_csv(os.path.join(BASE_DIR, tile_list_fn))\n",
    "    tile_fns = df[\"lc_fn\"].values\n",
    "    \n",
    "    for tile_fn in tile_fns:\n",
    "        \n",
    "        f = rasterio.open(os.path.join(BASE_DIR, tile_fn), \"r\")\n",
    "        left, bottom, right, top = f.bounds\n",
    "        crs = f.crs.to_string()\n",
    "        height, width = f.height, f.width\n",
    "        f.close()\n",
    "        \n",
    "        new_fn = os.path.join(OUTPUT_DIR, tile_fn)[:-6] + \"lu.tif\"\n",
    "        os.makedirs(os.path.dirname(new_fn), exist_ok=True)\n",
    "        \n",
    "        \n",
    "        command = [\n",
    "            \"gdalwarp\",\n",
    "            \"-overwrite\",\n",
    "            \"-ot\", \"Byte\",\n",
    "            \"-t_srs\", crs,\n",
    "            \"-dstnodata\", \"0\",\n",
    "            \"-r\", \"near\",\n",
    "            \"-of\", \"GTiff\",\n",
    "            \"-te\", str(left), str(bottom), str(right), str(top),\n",
    "            \"-ts\", str(width), str(height),\n",
    "            \"-co\", \"COMPRESS=LZW\",\n",
    "            \"-co\", \"BIGTIFF=YES\",\n",
    "            \"/home/caleb/data/landuse/landuse.vrt\",\n",
    "            new_fn\n",
    "        ]\n",
    "        output = subprocess.call(command)\n",
    "        \n",
    "        assert output == 0, \"Error \" + tile_fn "
   ]
  },
  {
   "cell_type": "code",
   "execution_count": 18,
   "metadata": {},
   "outputs": [
    {
     "name": "stdout",
     "output_type": "stream",
     "text": [
      "pa_1m_2013_extended-test_tiles.csv\n",
      "md_1m_2013_extended-test_tiles.csv\n",
      "va_1m_2014_extended-test_tiles.csv\n",
      "pa_1m_2013_extended-val_tiles.csv\n",
      "wv_1m_2014_extended-train_tiles.csv\n",
      "ny_1m_2013_extended-test_tiles.csv\n",
      "de_1m_2013_extended-test_tiles.csv\n",
      "de_1m_2013_extended-train_tiles.csv\n",
      "va_1m_2014_extended-val_tiles.csv\n",
      "va_1m_2014_extended-train_tiles.csv\n",
      "de_1m_2013_extended-val_tiles.csv\n",
      "pa_1m_2013_extended-train_tiles.csv\n",
      "wv_1m_2014_extended-test_tiles.csv\n",
      "md_1m_2013_extended-train_tiles.csv\n",
      "md_1m_2013_extended-val_tiles.csv\n",
      "ny_1m_2013_extended-val_tiles.csv\n",
      "wv_1m_2014_extended-val_tiles.csv\n",
      "ny_1m_2013_extended-train_tiles.csv\n"
     ]
    }
   ],
   "source": [
    "for tile_list_fn in tile_list_fns:\n",
    "    print(tile_list_fn)\n",
    "    \n",
    "    \n",
    "    df = pd.read_csv(os.path.join(BASE_DIR, tile_list_fn))\n",
    "    tile_fns = df[\"lc_fn\"].values\n",
    "    \n",
    "    new_fns = []\n",
    "    for tile_fn in tile_fns:\n",
    "        \n",
    "        f = rasterio.open(os.path.join(BASE_DIR, tile_fn), \"r\")\n",
    "        left, bottom, right, top = f.bounds\n",
    "        crs = f.crs.to_string()\n",
    "        height, width = f.height, f.width\n",
    "        f.close()\n",
    "        \n",
    "        new_fn = tile_fn[:-6] + \"lu.tif\"\n",
    "        new_fns.append(new_fn)\n",
    "        \n",
    "    \n",
    "    df[\"lu_fn\"] = new_fns\n",
    "    df.to_csv(os.path.join(OUTPUT_DIR, tile_list_fn), index_label=\"id\")"
   ]
  },
  {
   "cell_type": "code",
   "execution_count": 22,
   "metadata": {},
   "outputs": [
    {
     "data": {
      "text/plain": [
       "'ny_1m_2013_extended-train_tiles/m_4207421_se_18_1_lc.tif'"
      ]
     },
     "execution_count": 22,
     "metadata": {},
     "output_type": "execute_result"
    }
   ],
   "source": [
    "df.iloc[0][\"lc_fn\"]"
   ]
  },
  {
   "cell_type": "code",
   "execution_count": 23,
   "metadata": {},
   "outputs": [
    {
     "data": {
      "text/plain": [
       "'ny_1m_2013_extended-train_tiles/m_4207421_se_18_1_lu.tif'"
      ]
     },
     "execution_count": 23,
     "metadata": {},
     "output_type": "execute_result"
    }
   ],
   "source": [
    "df.iloc[0][\"lu_fn\"]"
   ]
  },
  {
   "cell_type": "code",
   "execution_count": null,
   "metadata": {},
   "outputs": [],
   "source": []
  }
 ],
 "metadata": {
  "kernelspec": {
   "display_name": "Python 3.5",
   "language": "python",
   "name": "python3"
  },
  "language_info": {
   "codemirror_mode": {
    "name": "ipython",
    "version": 3
   },
   "file_extension": ".py",
   "mimetype": "text/x-python",
   "name": "python",
   "nbconvert_exporter": "python",
   "pygments_lexer": "ipython3",
   "version": "3.5.5"
  }
 },
 "nbformat": 4,
 "nbformat_minor": 2
}
