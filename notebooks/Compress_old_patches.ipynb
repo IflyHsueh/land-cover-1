{
 "cells": [
  {
   "cell_type": "code",
   "execution_count": 1,
   "metadata": {},
   "outputs": [],
   "source": [
    "import os\n",
    "import numpy as np"
   ]
  },
  {
   "cell_type": "code",
   "execution_count": 19,
   "metadata": {},
   "outputs": [
    {
     "name": "stdout",
     "output_type": "stream",
     "text": [
      "va_1m_2014_train_patches 12500\n",
      "de_1m_2013_train_patches 12500\n",
      "ny_1m_2013_val_patches 2500\n",
      "pa_1m_2013_val_patches 2500\n",
      "md_1m_2013_val_patches 2500\n",
      "wv_1m_2014_train_patches 12500\n",
      "de_1m_2013_val_patches 2500\n",
      "md_1m_2013_train_patches 12500\n",
      "wv_1m_2014_val_patches 2500\n",
      "ny_1m_2013_train_patches 12500\n",
      "va_1m_2014_val_patches 2500\n",
      "pa_1m_2013_train_patches 12500\n"
     ]
    }
   ],
   "source": [
    "for root, dirs, fns in os.walk(\"/home/caleb/data/\", topdown=False):\n",
    "    if len(dirs) == 0:\n",
    "        base_dir = os.path.basename(root)\n",
    "        if base_dir.endswith(\"_train_patches\") or base_dir.endswith(\"_val_patches\"):\n",
    "            print(base_dir, len(fns))\n",
    "            for fn in fns:\n",
    "                if fn.endswith(\".npy\"):\n",
    "                    data = np.load(os.path.join(root, fn))\n",
    "                    np.savez_compressed(os.path.join(root, fn[:-4] + \".npz\"), data)\n",
    "                    os.remove(os.path.join(root, fn))"
   ]
  },
  {
   "cell_type": "code",
   "execution_count": null,
   "metadata": {},
   "outputs": [],
   "source": []
  }
 ],
 "metadata": {
  "kernelspec": {
   "display_name": "Python 3.5",
   "language": "python",
   "name": "python3"
  },
  "language_info": {
   "codemirror_mode": {
    "name": "ipython",
    "version": 3
   },
   "file_extension": ".py",
   "mimetype": "text/x-python",
   "name": "python",
   "nbconvert_exporter": "python",
   "pygments_lexer": "ipython3",
   "version": "3.5.5"
  }
 },
 "nbformat": 4,
 "nbformat_minor": 2
}
