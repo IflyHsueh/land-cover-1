{
 "cells": [
  {
   "cell_type": "code",
   "execution_count": 5,
   "metadata": {},
   "outputs": [],
   "source": [
    "import os\n",
    "import pandas as pd\n",
    "\n",
    "import rasterio"
   ]
  },
  {
   "cell_type": "code",
   "execution_count": 2,
   "metadata": {},
   "outputs": [],
   "source": [
    "states = [\n",
    "    \"de_1m_2013\", # 107 tiles\n",
    "    \"ny_1m_2013\", # 407 tiles\n",
    "    \"md_1m_2013\", # 691 tiles\n",
    "    \"pa_1m_2013\", # 2239 tiles\n",
    "    \"wv_1m_2014\", # 292 tiles\n",
    "    \"va_1m_2014\"  # 1238 tiles\n",
    "]"
   ]
  },
  {
   "cell_type": "code",
   "execution_count": 6,
   "metadata": {},
   "outputs": [
    {
     "name": "stdout",
     "output_type": "stream",
     "text": [
      "(7571, 6080)\n",
      "(7573, 6046)\n",
      "(7560, 6080)\n",
      "(7573, 6037)\n",
      "(7565, 6046)\n",
      "(7564, 6065)\n",
      "(7579, 6056)\n",
      "(7557, 6075)\n",
      "(7576, 6061)\n",
      "(7568, 6052)\n",
      "(7576, 6037)\n",
      "(7572, 6060)\n",
      "(7580, 6023)\n",
      "(7561, 6055)\n",
      "(7577, 6013)\n",
      "(7579, 6093)\n",
      "(7575, 6089)\n",
      "(7572, 6084)\n",
      "(7581, 6013)\n",
      "(7564, 6084)\n",
      "(7568, 6042)\n",
      "(7549, 6070)\n",
      "(7568, 6080)\n",
      "(7579, 6088)\n",
      "(7549, 6055)\n"
     ]
    }
   ],
   "source": [
    "fn_mapping = {}\n",
    "for state in states:\n",
    "    for ds in [\"train\", \"val\", \"test\"]:\n",
    "        \n",
    "        df = pd.read_csv(\"../data/%s_%s_tiles.csv\" % (state, ds))\n",
    "        \n",
    "        fns = df[\"lc_fn\"].values\n",
    "        \n",
    "        for fn in fns:\n",
    "            f = rasterio.open(\"../data/%s\" % (fn), \"r\")\n",
    "            print(f.shape)\n",
    "            f.close()\n",
    "        break\n",
    "    break"
   ]
  },
  {
   "cell_type": "code",
   "execution_count": null,
   "metadata": {},
   "outputs": [],
   "source": []
  }
 ],
 "metadata": {
  "kernelspec": {
   "display_name": "Python 3.5",
   "language": "python",
   "name": "python3"
  },
  "language_info": {
   "codemirror_mode": {
    "name": "ipython",
    "version": 3
   },
   "file_extension": ".py",
   "mimetype": "text/x-python",
   "name": "python",
   "nbconvert_exporter": "python",
   "pygments_lexer": "ipython3",
   "version": "3.5.5"
  }
 },
 "nbformat": 4,
 "nbformat_minor": 2
}
