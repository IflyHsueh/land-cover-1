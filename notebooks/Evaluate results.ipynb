{
 "cells": [
  {
   "cell_type": "code",
   "execution_count": 1,
   "metadata": {},
   "outputs": [],
   "source": [
    "%matplotlib inline\n",
    "import sys, os, time\n",
    "\n",
    "import numpy as np\n",
    "import pandas as pd\n",
    "\n",
    "import matplotlib\n",
    "import matplotlib.pyplot as plt\n",
    "\n",
    "import subprocess"
   ]
  },
  {
   "cell_type": "markdown",
   "metadata": {},
   "source": [
    "## All of the results we have"
   ]
  },
  {
   "cell_type": "code",
   "execution_count": 2,
   "metadata": {},
   "outputs": [],
   "source": [
    "splits = [\n",
    "    \"de_1m_2013\",\n",
    "    \"ny_1m_2013\",\n",
    "    \"md_1m_2013\",\n",
    "    \"pa_1m_2013\",\n",
    "    \"va_1m_2014\",\n",
    "    \"wv_1m_2014\"\n",
    "]"
   ]
  },
  {
   "cell_type": "code",
   "execution_count": 3,
   "metadata": {},
   "outputs": [],
   "source": [
    "output_dirs = [\n",
    "    \"../results/results_epochs_20_1\",\n",
    "    \"../results/results_epochs_20_2\",\n",
    "    \"../results/results_epochs_20_3\",\n",
    "    \"../results/results_epochs_20_4\"\n",
    "]"
   ]
  },
  {
   "cell_type": "markdown",
   "metadata": {},
   "source": [
    "## Collect all of the results using the `eval_landcover_results.sh` script"
   ]
  },
  {
   "cell_type": "code",
   "execution_count": 4,
   "metadata": {},
   "outputs": [],
   "source": [
    "results_all_acc = np.zeros((len(output_dirs), len(splits), len(splits)), dtype=float)\n",
    "results_all_jaccard = np.zeros((len(output_dirs), len(splits), len(splits)), dtype=float)\n",
    "results_urban_acc = np.zeros((len(output_dirs), len(splits), len(splits)), dtype=float)\n",
    "results_urban_jaccard = np.zeros((len(output_dirs), len(splits), len(splits)), dtype=float)\n",
    "\n",
    "for i,output_dir in enumerate(output_dirs):\n",
    "    for j,train_split in enumerate(splits):\n",
    "        for k,test_split in enumerate(splits):\n",
    "            command = \"../eval_landcover_results.sh {}/train-output_{}/test-output_{}/log_acc_{}.txt\".format(\n",
    "                output_dir, train_split, test_split, test_split\n",
    "            )\n",
    "            text = subprocess.check_output(command.split(\" \"))\n",
    "            lines = text.decode('utf-8').split(\"\\n\")\n",
    "            all_acc, all_jaccard = list(map(float,lines[0].split(\",\")))\n",
    "            urban_acc, urban_jaccard = list(map(float,lines[1].split(\",\")))\n",
    "            \n",
    "            results_all_acc[i,j,k] = all_acc\n",
    "            results_all_jaccard[i,j,k] = all_jaccard\n",
    "            results_urban_acc[i,j,k] = urban_acc\n",
    "            results_urban_jaccard[i,j,k] = urban_jaccard"
   ]
  },
  {
   "cell_type": "code",
   "execution_count": 11,
   "metadata": {},
   "outputs": [
    {
     "data": {
      "text/plain": [
       "array([[0.942965, 0.886592, 0.87704 , 0.897929, 0.766529, 0.568804],\n",
       "       [0.832054, 0.823499, 0.818558, 0.834167, 0.77421 , 0.289797],\n",
       "       [0.919506, 0.903784, 0.924437, 0.894674, 0.67114 , 0.328422],\n",
       "       [0.826574, 0.847607, 0.860571, 0.918516, 0.751406, 0.737504],\n",
       "       [0.890895, 0.897978, 0.874989, 0.893669, 0.898185, 0.909459],\n",
       "       [0.85539 , 0.872286, 0.817446, 0.875221, 0.855955, 0.941123]])"
      ]
     },
     "execution_count": 11,
     "metadata": {},
     "output_type": "execute_result"
    }
   ],
   "source": [
    "results_all_acc[1]"
   ]
  },
  {
   "cell_type": "code",
   "execution_count": 6,
   "metadata": {},
   "outputs": [],
   "source": [
    "df_all_acc_means = pd.DataFrame(\n",
    "    results_all_acc.mean(axis=0),\n",
    "    columns=[\"test-\" + split for split in splits],\n",
    "    index=[\"train-\" + split for split in splits]\n",
    ")"
   ]
  },
  {
   "cell_type": "code",
   "execution_count": 7,
   "metadata": {},
   "outputs": [],
   "source": [
    "df_all_acc_stds = pd.DataFrame(\n",
    "    results_all_acc.std(axis=0),\n",
    "    columns=[\"test-\" + split for split in splits],\n",
    "    index=[\"train-\" + split for split in splits]\n",
    ")"
   ]
  },
  {
   "cell_type": "code",
   "execution_count": 28,
   "metadata": {},
   "outputs": [],
   "source": [
    "results_acc_string = np.zeros_like(df_all_acc_means.values, dtype=object)\n",
    "for i,train_split in enumerate(splits):\n",
    "    for j,test_split in enumerate(splits):\n",
    "        results_acc_string[i,j] = \"%0.2f (%0.2f)\" % (df_all_acc_means.values[i,j]*100, df_all_acc_stds.values[i,j]*100)"
   ]
  },
  {
   "cell_type": "code",
   "execution_count": 31,
   "metadata": {},
   "outputs": [],
   "source": [
    "df_all_acc_string = pd.DataFrame(\n",
    "    results_acc_string,\n",
    "    columns=[\"test-\" + split for split in splits],\n",
    "    index=[\"train-\" + split for split in splits]\n",
    ")"
   ]
  },
  {
   "cell_type": "code",
   "execution_count": 40,
   "metadata": {},
   "outputs": [
    {
     "data": {
      "text/html": [
       "<div>\n",
       "<style scoped>\n",
       "    .dataframe tbody tr th:only-of-type {\n",
       "        vertical-align: middle;\n",
       "    }\n",
       "\n",
       "    .dataframe tbody tr th {\n",
       "        vertical-align: top;\n",
       "    }\n",
       "\n",
       "    .dataframe thead th {\n",
       "        text-align: right;\n",
       "    }\n",
       "</style>\n",
       "<table border=\"1\" class=\"dataframe\">\n",
       "  <thead>\n",
       "    <tr style=\"text-align: right;\">\n",
       "      <th></th>\n",
       "      <th>test-de_1m_2013</th>\n",
       "      <th>test-ny_1m_2013</th>\n",
       "      <th>test-md_1m_2013</th>\n",
       "      <th>test-pa_1m_2013</th>\n",
       "      <th>test-va_1m_2014</th>\n",
       "      <th>test-wv_1m_2014</th>\n",
       "    </tr>\n",
       "  </thead>\n",
       "  <tbody>\n",
       "    <tr>\n",
       "      <th>train-de_1m_2013</th>\n",
       "      <td>94.49 (0.17)</td>\n",
       "      <td>86.38 (2.68)</td>\n",
       "      <td>89.02 (0.86)</td>\n",
       "      <td>88.92 (1.18)</td>\n",
       "      <td>74.96 (1.22)</td>\n",
       "      <td>44.09 (9.17)</td>\n",
       "    </tr>\n",
       "    <tr>\n",
       "      <th>train-ny_1m_2013</th>\n",
       "      <td>89.00 (3.42)</td>\n",
       "      <td>89.56 (4.19)</td>\n",
       "      <td>87.20 (3.65)</td>\n",
       "      <td>87.94 (2.77)</td>\n",
       "      <td>74.13 (3.00)</td>\n",
       "      <td>35.38 (9.27)</td>\n",
       "    </tr>\n",
       "    <tr>\n",
       "      <th>train-md_1m_2013</th>\n",
       "      <td>88.60 (7.08)</td>\n",
       "      <td>79.86 (13.81)</td>\n",
       "      <td>89.99 (4.89)</td>\n",
       "      <td>78.43 (17.00)</td>\n",
       "      <td>69.49 (6.31)</td>\n",
       "      <td>30.91 (12.22)</td>\n",
       "    </tr>\n",
       "    <tr>\n",
       "      <th>train-pa_1m_2013</th>\n",
       "      <td>77.12 (18.76)</td>\n",
       "      <td>80.35 (12.76)</td>\n",
       "      <td>78.59 (16.10)</td>\n",
       "      <td>85.18 (11.01)</td>\n",
       "      <td>73.74 (10.96)</td>\n",
       "      <td>62.06 (13.21)</td>\n",
       "    </tr>\n",
       "    <tr>\n",
       "      <th>train-va_1m_2014</th>\n",
       "      <td>87.15 (1.53)</td>\n",
       "      <td>86.88 (2.28)</td>\n",
       "      <td>85.52 (2.75)</td>\n",
       "      <td>85.72 (3.14)</td>\n",
       "      <td>85.74 (5.51)</td>\n",
       "      <td>78.35 (13.91)</td>\n",
       "    </tr>\n",
       "    <tr>\n",
       "      <th>train-wv_1m_2014</th>\n",
       "      <td>81.55 (3.78)</td>\n",
       "      <td>86.51 (0.75)</td>\n",
       "      <td>78.49 (4.27)</td>\n",
       "      <td>87.34 (0.58)</td>\n",
       "      <td>83.75 (1.75)</td>\n",
       "      <td>94.22 (0.71)</td>\n",
       "    </tr>\n",
       "  </tbody>\n",
       "</table>\n",
       "</div>"
      ],
      "text/plain": [
       "                 test-de_1m_2013 test-ny_1m_2013 test-md_1m_2013  \\\n",
       "train-de_1m_2013    94.49 (0.17)    86.38 (2.68)    89.02 (0.86)   \n",
       "train-ny_1m_2013    89.00 (3.42)    89.56 (4.19)    87.20 (3.65)   \n",
       "train-md_1m_2013    88.60 (7.08)   79.86 (13.81)    89.99 (4.89)   \n",
       "train-pa_1m_2013   77.12 (18.76)   80.35 (12.76)   78.59 (16.10)   \n",
       "train-va_1m_2014    87.15 (1.53)    86.88 (2.28)    85.52 (2.75)   \n",
       "train-wv_1m_2014    81.55 (3.78)    86.51 (0.75)    78.49 (4.27)   \n",
       "\n",
       "                 test-pa_1m_2013 test-va_1m_2014 test-wv_1m_2014  \n",
       "train-de_1m_2013    88.92 (1.18)    74.96 (1.22)    44.09 (9.17)  \n",
       "train-ny_1m_2013    87.94 (2.77)    74.13 (3.00)    35.38 (9.27)  \n",
       "train-md_1m_2013   78.43 (17.00)    69.49 (6.31)   30.91 (12.22)  \n",
       "train-pa_1m_2013   85.18 (11.01)   73.74 (10.96)   62.06 (13.21)  \n",
       "train-va_1m_2014    85.72 (3.14)    85.74 (5.51)   78.35 (13.91)  \n",
       "train-wv_1m_2014    87.34 (0.58)    83.75 (1.75)    94.22 (0.71)  "
      ]
     },
     "execution_count": 40,
     "metadata": {},
     "output_type": "execute_result"
    }
   ],
   "source": [
    "df_all_acc_string"
   ]
  },
  {
   "cell_type": "code",
   "execution_count": null,
   "metadata": {},
   "outputs": [],
   "source": []
  }
 ],
 "metadata": {
  "kernelspec": {
   "display_name": "Python 3",
   "language": "python",
   "name": "python3"
  },
  "language_info": {
   "codemirror_mode": {
    "name": "ipython",
    "version": 3
   },
   "file_extension": ".py",
   "mimetype": "text/x-python",
   "name": "python",
   "nbconvert_exporter": "python",
   "pygments_lexer": "ipython3",
   "version": "3.6.8"
  }
 },
 "nbformat": 4,
 "nbformat_minor": 2
}
