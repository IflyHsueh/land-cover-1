{
 "cells": [
  {
   "cell_type": "code",
   "execution_count": 1,
   "metadata": {},
   "outputs": [],
   "source": [
    "%matplotlib inline\n",
    "import sys, os, time\n",
    "\n",
    "import numpy as np\n",
    "import pandas as pd\n",
    "\n",
    "import matplotlib\n",
    "import matplotlib.pyplot as plt\n",
    "\n",
    "import subprocess"
   ]
  },
  {
   "cell_type": "code",
   "execution_count": 26,
   "metadata": {},
   "outputs": [],
   "source": [
    "splits = [\n",
    "    \"de_1m_2013\",\n",
    "    \"ny_1m_2013\",\n",
    "    \"md_1m_2013\",\n",
    "    \"pa_1m_2013\",\n",
    "    \"va_1m_2014\",\n",
    "    \"wv_1m_2014\"\n",
    "]"
   ]
  },
  {
   "cell_type": "code",
   "execution_count": 3,
   "metadata": {},
   "outputs": [],
   "source": [
    "output_dirs = [\n",
    "    \"../results/results_epochs_20_1\",\n",
    "    \"../results/results_epochs_20_2\",\n",
    "    \"../results/results_epochs_20_3\"\n",
    "]"
   ]
  },
  {
   "cell_type": "code",
   "execution_count": 16,
   "metadata": {},
   "outputs": [],
   "source": [
    "results_all_acc = np.zeros((len(output_dirs), len(splits), len(splits)), dtype=float)\n",
    "results_all_jaccard = np.zeros((len(output_dirs), len(splits), len(splits)), dtype=float)\n",
    "results_urban_acc = np.zeros((len(output_dirs), len(splits), len(splits)), dtype=float)\n",
    "results_urban_jaccard = np.zeros((len(output_dirs), len(splits), len(splits)), dtype=float)\n",
    "\n",
    "for i,output_dir in enumerate(output_dirs):\n",
    "    for j,train_split in enumerate(splits):\n",
    "        for k,test_split in enumerate(splits):\n",
    "            command = \"../eval_landcover_results.sh {}/train-output_{}/test-output_{}/log_acc_{}.txt\".format(\n",
    "                output_dir, train_split, test_split, test_split\n",
    "            )\n",
    "            text = subprocess.check_output(command.split(\" \"))\n",
    "            lines = text.decode('utf-8').split(\"\\n\")\n",
    "            all_acc, all_jaccard = list(map(float,lines[0].split(\",\")))\n",
    "            urban_acc, urban_jaccard = list(map(float,lines[1].split(\",\")))\n",
    "            \n",
    "            results_all_acc[i,j,k] = all_acc\n",
    "            results_all_jaccard[i,j,k] = all_jaccard\n",
    "            results_urban_acc[i,j,k] = urban_acc\n",
    "            results_urban_jaccard[i,j,k] = urban_jaccard"
   ]
  },
  {
   "cell_type": "code",
   "execution_count": 65,
   "metadata": {},
   "outputs": [
    {
     "data": {
      "text/plain": [
       "array([[0.945388, 0.818357, 0.8999  , 0.868946, 0.751651, 0.410308],\n",
       "       [0.904646, 0.919403, 0.86128 , 0.891762, 0.717452, 0.238107],\n",
       "       [0.932801, 0.900016, 0.934753, 0.89874 , 0.767419, 0.500145],\n",
       "       [0.451882, 0.584754, 0.508299, 0.661181, 0.555293, 0.410676],\n",
       "       [0.874247, 0.865759, 0.860337, 0.851568, 0.885612, 0.558516],\n",
       "       [0.839448, 0.869241, 0.799035, 0.864635, 0.82772 , 0.931177]])"
      ]
     },
     "execution_count": 65,
     "metadata": {},
     "output_type": "execute_result"
    }
   ],
   "source": [
    "results_all_acc[0]"
   ]
  },
  {
   "cell_type": "code",
   "execution_count": 66,
   "metadata": {},
   "outputs": [
    {
     "data": {
      "text/plain": [
       "array([[0.942965, 0.886592, 0.87704 , 0.897929, 0.766529, 0.568804],\n",
       "       [0.832054, 0.823499, 0.818558, 0.834167, 0.77421 , 0.289797],\n",
       "       [0.919506, 0.903784, 0.924437, 0.894674, 0.67114 , 0.328422],\n",
       "       [0.826574, 0.847607, 0.860571, 0.918516, 0.751406, 0.737504],\n",
       "       [0.890895, 0.897978, 0.874989, 0.893669, 0.898185, 0.909459],\n",
       "       [0.85539 , 0.872286, 0.817446, 0.875221, 0.855955, 0.941123]])"
      ]
     },
     "execution_count": 66,
     "metadata": {},
     "output_type": "execute_result"
    }
   ],
   "source": [
    "results_all_acc[1]"
   ]
  },
  {
   "cell_type": "code",
   "execution_count": 68,
   "metadata": {},
   "outputs": [],
   "source": [
    "df_all_acc_means = pd.DataFrame(\n",
    "    results_all_acc.mean(axis=0),\n",
    "    columns=[\"test-\" + split for split in splits],\n",
    "    index=[\"train-\" + split for split in splits]\n",
    ")"
   ]
  },
  {
   "cell_type": "code",
   "execution_count": 69,
   "metadata": {},
   "outputs": [],
   "source": [
    "df_all_acc_stds = pd.DataFrame(\n",
    "    results_all_acc.std(axis=0),\n",
    "    columns=[\"test-\" + split for split in splits],\n",
    "    index=[\"train-\" + split for split in splits]\n",
    ")"
   ]
  },
  {
   "cell_type": "code",
   "execution_count": 70,
   "metadata": {},
   "outputs": [
    {
     "data": {
      "text/html": [
       "<div>\n",
       "<style scoped>\n",
       "    .dataframe tbody tr th:only-of-type {\n",
       "        vertical-align: middle;\n",
       "    }\n",
       "\n",
       "    .dataframe tbody tr th {\n",
       "        vertical-align: top;\n",
       "    }\n",
       "\n",
       "    .dataframe thead th {\n",
       "        text-align: right;\n",
       "    }\n",
       "</style>\n",
       "<table border=\"1\" class=\"dataframe\">\n",
       "  <thead>\n",
       "    <tr style=\"text-align: right;\">\n",
       "      <th></th>\n",
       "      <th>test-de_1m_2013</th>\n",
       "      <th>test-ny_1m_2013</th>\n",
       "      <th>test-md_1m_2013</th>\n",
       "      <th>test-pa_1m_2013</th>\n",
       "      <th>test-va_1m_2014</th>\n",
       "      <th>test-wv_1m_2014</th>\n",
       "    </tr>\n",
       "  </thead>\n",
       "  <tbody>\n",
       "    <tr>\n",
       "      <th>train-de_1m_2013</th>\n",
       "      <td>0.944038</td>\n",
       "      <td>0.858729</td>\n",
       "      <td>0.888542</td>\n",
       "      <td>0.886725</td>\n",
       "      <td>0.755338</td>\n",
       "      <td>0.482486</td>\n",
       "    </tr>\n",
       "    <tr>\n",
       "      <th>train-ny_1m_2013</th>\n",
       "      <td>0.879662</td>\n",
       "      <td>0.885269</td>\n",
       "      <td>0.857214</td>\n",
       "      <td>0.869563</td>\n",
       "      <td>0.732489</td>\n",
       "      <td>0.317577</td>\n",
       "    </tr>\n",
       "    <tr>\n",
       "      <th>train-md_1m_2013</th>\n",
       "      <td>0.871997</td>\n",
       "      <td>0.789820</td>\n",
       "      <td>0.891559</td>\n",
       "      <td>0.761679</td>\n",
       "      <td>0.680792</td>\n",
       "      <td>0.337990</td>\n",
       "    </tr>\n",
       "    <tr>\n",
       "      <th>train-pa_1m_2013</th>\n",
       "      <td>0.734230</td>\n",
       "      <td>0.776772</td>\n",
       "      <td>0.757195</td>\n",
       "      <td>0.831094</td>\n",
       "      <td>0.715252</td>\n",
       "      <td>0.584352</td>\n",
       "    </tr>\n",
       "    <tr>\n",
       "      <th>train-va_1m_2014</th>\n",
       "      <td>0.879327</td>\n",
       "      <td>0.880120</td>\n",
       "      <td>0.870649</td>\n",
       "      <td>0.873222</td>\n",
       "      <td>0.848748</td>\n",
       "      <td>0.748796</td>\n",
       "    </tr>\n",
       "    <tr>\n",
       "      <th>train-wv_1m_2014</th>\n",
       "      <td>0.835269</td>\n",
       "      <td>0.869253</td>\n",
       "      <td>0.776127</td>\n",
       "      <td>0.870989</td>\n",
       "      <td>0.832435</td>\n",
       "      <td>0.940626</td>\n",
       "    </tr>\n",
       "  </tbody>\n",
       "</table>\n",
       "</div>"
      ],
      "text/plain": [
       "                  test-de_1m_2013  test-ny_1m_2013  test-md_1m_2013  \\\n",
       "train-de_1m_2013         0.944038         0.858729         0.888542   \n",
       "train-ny_1m_2013         0.879662         0.885269         0.857214   \n",
       "train-md_1m_2013         0.871997         0.789820         0.891559   \n",
       "train-pa_1m_2013         0.734230         0.776772         0.757195   \n",
       "train-va_1m_2014         0.879327         0.880120         0.870649   \n",
       "train-wv_1m_2014         0.835269         0.869253         0.776127   \n",
       "\n",
       "                  test-pa_1m_2013  test-va_1m_2014  test-wv_1m_2014  \n",
       "train-de_1m_2013         0.886725         0.755338         0.482486  \n",
       "train-ny_1m_2013         0.869563         0.732489         0.317577  \n",
       "train-md_1m_2013         0.761679         0.680792         0.337990  \n",
       "train-pa_1m_2013         0.831094         0.715252         0.584352  \n",
       "train-va_1m_2014         0.873222         0.848748         0.748796  \n",
       "train-wv_1m_2014         0.870989         0.832435         0.940626  "
      ]
     },
     "execution_count": 70,
     "metadata": {},
     "output_type": "execute_result"
    }
   ],
   "source": [
    "df_all_acc_means"
   ]
  },
  {
   "cell_type": "code",
   "execution_count": 72,
   "metadata": {},
   "outputs": [
    {
     "data": {
      "text/html": [
       "<div>\n",
       "<style scoped>\n",
       "    .dataframe tbody tr th:only-of-type {\n",
       "        vertical-align: middle;\n",
       "    }\n",
       "\n",
       "    .dataframe tbody tr th {\n",
       "        vertical-align: top;\n",
       "    }\n",
       "\n",
       "    .dataframe thead th {\n",
       "        text-align: right;\n",
       "    }\n",
       "</style>\n",
       "<table border=\"1\" class=\"dataframe\">\n",
       "  <thead>\n",
       "    <tr style=\"text-align: right;\">\n",
       "      <th></th>\n",
       "      <th>test-de_1m_2013</th>\n",
       "      <th>test-ny_1m_2013</th>\n",
       "      <th>test-md_1m_2013</th>\n",
       "      <th>test-pa_1m_2013</th>\n",
       "      <th>test-va_1m_2014</th>\n",
       "      <th>test-wv_1m_2014</th>\n",
       "    </tr>\n",
       "  </thead>\n",
       "  <tbody>\n",
       "    <tr>\n",
       "      <th>train-de_1m_2013</th>\n",
       "      <td>0.001008</td>\n",
       "      <td>0.029228</td>\n",
       "      <td>0.009333</td>\n",
       "      <td>0.012713</td>\n",
       "      <td>0.008065</td>\n",
       "      <td>0.065474</td>\n",
       "    </tr>\n",
       "    <tr>\n",
       "      <th>train-ny_1m_2013</th>\n",
       "      <td>0.033678</td>\n",
       "      <td>0.043758</td>\n",
       "      <td>0.030040</td>\n",
       "      <td>0.025297</td>\n",
       "      <td>0.029882</td>\n",
       "      <td>0.078719</td>\n",
       "    </tr>\n",
       "    <tr>\n",
       "      <th>train-md_1m_2013</th>\n",
       "      <td>0.076781</td>\n",
       "      <td>0.158513</td>\n",
       "      <td>0.053956</td>\n",
       "      <td>0.190965</td>\n",
       "      <td>0.067138</td>\n",
       "      <td>0.128671</td>\n",
       "    </tr>\n",
       "    <tr>\n",
       "      <th>train-pa_1m_2013</th>\n",
       "      <td>0.203592</td>\n",
       "      <td>0.137324</td>\n",
       "      <td>0.176835</td>\n",
       "      <td>0.120164</td>\n",
       "      <td>0.118634</td>\n",
       "      <td>0.134214</td>\n",
       "    </tr>\n",
       "    <tr>\n",
       "      <th>train-va_1m_2014</th>\n",
       "      <td>0.008200</td>\n",
       "      <td>0.013384</td>\n",
       "      <td>0.007322</td>\n",
       "      <td>0.017209</td>\n",
       "      <td>0.061240</td>\n",
       "      <td>0.144794</td>\n",
       "    </tr>\n",
       "    <tr>\n",
       "      <th>train-wv_1m_2014</th>\n",
       "      <td>0.018374</td>\n",
       "      <td>0.002471</td>\n",
       "      <td>0.046033</td>\n",
       "      <td>0.004575</td>\n",
       "      <td>0.017598</td>\n",
       "      <td>0.007520</td>\n",
       "    </tr>\n",
       "  </tbody>\n",
       "</table>\n",
       "</div>"
      ],
      "text/plain": [
       "                  test-de_1m_2013  test-ny_1m_2013  test-md_1m_2013  \\\n",
       "train-de_1m_2013         0.001008         0.029228         0.009333   \n",
       "train-ny_1m_2013         0.033678         0.043758         0.030040   \n",
       "train-md_1m_2013         0.076781         0.158513         0.053956   \n",
       "train-pa_1m_2013         0.203592         0.137324         0.176835   \n",
       "train-va_1m_2014         0.008200         0.013384         0.007322   \n",
       "train-wv_1m_2014         0.018374         0.002471         0.046033   \n",
       "\n",
       "                  test-pa_1m_2013  test-va_1m_2014  test-wv_1m_2014  \n",
       "train-de_1m_2013         0.012713         0.008065         0.065474  \n",
       "train-ny_1m_2013         0.025297         0.029882         0.078719  \n",
       "train-md_1m_2013         0.190965         0.067138         0.128671  \n",
       "train-pa_1m_2013         0.120164         0.118634         0.134214  \n",
       "train-va_1m_2014         0.017209         0.061240         0.144794  \n",
       "train-wv_1m_2014         0.004575         0.017598         0.007520  "
      ]
     },
     "execution_count": 72,
     "metadata": {},
     "output_type": "execute_result"
    }
   ],
   "source": [
    "df_all_acc_stds"
   ]
  },
  {
   "cell_type": "code",
   "execution_count": null,
   "metadata": {},
   "outputs": [],
   "source": []
  }
 ],
 "metadata": {
  "kernelspec": {
   "display_name": "Python 3",
   "language": "python",
   "name": "python3"
  },
  "language_info": {
   "codemirror_mode": {
    "name": "ipython",
    "version": 3
   },
   "file_extension": ".py",
   "mimetype": "text/x-python",
   "name": "python",
   "nbconvert_exporter": "python",
   "pygments_lexer": "ipython3",
   "version": "3.6.8"
  }
 },
 "nbformat": 4,
 "nbformat_minor": 2
}
