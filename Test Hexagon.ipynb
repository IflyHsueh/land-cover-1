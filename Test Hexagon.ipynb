{
 "cells": [
  {
   "cell_type": "code",
   "execution_count": 1,
   "metadata": {},
   "outputs": [
    {
     "name": "stderr",
     "output_type": "stream",
     "text": [
      "Using TensorFlow backend.\n"
     ]
    }
   ],
   "source": [
    "import os\n",
    "import keras\n",
    "from test_model_landcover import run_model_on_tile\n",
    "import time\n",
    "import rasterio\n",
    "import numpy as np"
   ]
  },
  {
   "cell_type": "code",
   "execution_count": 2,
   "metadata": {},
   "outputs": [],
   "source": [
    "def run_model_on_tile(model, naip_tile, inpt_size, output_size, batch_size):\n",
    "    down_weight_padding = 40\n",
    "    height = naip_tile.shape[0]\n",
    "    width = naip_tile.shape[1]\n",
    "\n",
    "    stride_x = inpt_size - down_weight_padding*2\n",
    "    stride_y = inpt_size - down_weight_padding*2\n",
    "\n",
    "    output = np.zeros((height, width, output_size), dtype=np.float32)\n",
    "    counts = np.zeros((height, width), dtype=np.float32) + 0.000000001\n",
    "    kernel = np.ones((inpt_size, inpt_size), dtype=np.float32) * 0.1\n",
    "    kernel[10:-10, 10:-10] = 1\n",
    "    kernel[down_weight_padding:down_weight_padding+stride_y,\n",
    "           down_weight_padding:down_weight_padding+stride_x] = 5\n",
    "\n",
    "    batch = []\n",
    "    batch_indices = []\n",
    "    batch_count = 0\n",
    "\n",
    "    for y_index in (list(range(0, height - inpt_size, stride_y)) + [height - inpt_size,]):\n",
    "        for x_index in (list(range(0, width - inpt_size, stride_x)) + [width - inpt_size,]):\n",
    "            naip_im = naip_tile[y_index:y_index+inpt_size, x_index:x_index+inpt_size, :]\n",
    "\n",
    "            batch.append(naip_im)\n",
    "            batch_indices.append((y_index, x_index))\n",
    "            batch_count+=1\n",
    "\n",
    "    model_output = model.predict(np.array(batch), batch_size=batch_size, verbose=0)\n",
    "\n",
    "    for i, (y, x) in enumerate(batch_indices):\n",
    "        output[y:y+inpt_size, x:x+inpt_size] += model_output[i] * kernel[..., np.newaxis]\n",
    "        counts[y:y+inpt_size, x:x+inpt_size] += kernel\n",
    "\n",
    "    return output / counts[..., np.newaxis]"
   ]
  },
  {
   "cell_type": "code",
   "execution_count": 3,
   "metadata": {},
   "outputs": [],
   "source": [
    "input_fn = \"c525b58f-89ea-4d80-9681-feabe4cf75e2_ms.tif\"\n",
    "data_dir = os.path.dirname(input_fn)\n",
    "model_fn = \"results/results_epochs_20_5/train-output_ny_1m_2013/final_model.h5\"\n",
    "save_probabilities = True\n",
    "    \n",
    "model = keras.models.load_model(model_fn, custom_objects={\n",
    "        \"jaccard_loss\":keras.metrics.mean_squared_error,\n",
    "        \"loss\":keras.metrics.mean_squared_error\n",
    "    })\n",
    "    \n",
    "output_shape = model.output_shape[1:]\n",
    "input_shape = model.input_shape[1:]\n",
    "model_input_size = input_shape[0]"
   ]
  },
  {
   "cell_type": "code",
   "execution_count": 4,
   "metadata": {},
   "outputs": [
    {
     "name": "stdout",
     "output_type": "stream",
     "text": [
      "Running model on c525b58f-89ea-4d80-9681-feabe4cf75e2_ms.tif\n",
      "(4, 505, 1603)\n"
     ]
    }
   ],
   "source": [
    "tic = float(time.time())\n",
    "naip_fn = os.path.join(data_dir, input_fn)\n",
    "\n",
    "\n",
    "print(\"Running model on %s\" % naip_fn)\n",
    "\n",
    "naip_fid = rasterio.open(naip_fn, \"r\")\n",
    "naip_profile = naip_fid.meta.copy()\n",
    "print(naip_fid.read().shape)\n",
    "naip_tile = np.clip(naip_fid.read() / 5000, 0, 5000)"
   ]
  },
  {
   "cell_type": "code",
   "execution_count": 5,
   "metadata": {},
   "outputs": [
    {
     "name": "stdout",
     "output_type": "stream",
     "text": [
      "Finished iteration in 8.2530 seconds\n"
     ]
    }
   ],
   "source": [
    "#naip_tile = naip_tile.astype(np.float32) / 255.0\n",
    "naip_tile = np.rollaxis(naip_tile, 0, 3)\n",
    "naip_fid.close()\n",
    "\n",
    "output = run_model_on_tile(model, naip_tile, model_input_size, output_shape[2], 16)\n",
    "#output[:,:,4] += output[:,:,5]\n",
    "#output[:,:,4] += output[:,:,6]\n",
    "output = output[:,:,:5]\n",
    "\n",
    "#----------------------------------------------------------------\n",
    "# Write out each softmax prediction to a separate file\n",
    "#----------------------------------------------------------------\n",
    "if save_probabilities:\n",
    "    output_fn = os.path.basename(naip_fn)[:-4] + \"_prob.tif\"\n",
    "    current_profile = naip_profile.copy()\n",
    "    current_profile['driver'] = 'GTiff'\n",
    "    current_profile['dtype'] = 'uint8'\n",
    "    current_profile['count'] = 5\n",
    "    current_profile['compress'] = \"lzw\"\n",
    "\n",
    "    # quantize the probabilities\n",
    "    bins = np.arange(256)\n",
    "    bins = bins / 255.0\n",
    "    output = np.digitize(output, bins=bins, right=True).astype(np.uint8)\n",
    "\n",
    "    f = rasterio.open(os.path.join(output_fn), 'w', **current_profile)\n",
    "    f.write(output[:,:,0], 1)\n",
    "    f.write(output[:,:,1], 2)\n",
    "    f.write(output[:,:,2], 3)\n",
    "    f.write(output[:,:,3], 4)\n",
    "    f.write(output[:,:,4], 5)\n",
    "    f.close()\n",
    "\n",
    "#----------------------------------------------------------------\n",
    "# Write out the class predictions\n",
    "#----------------------------------------------------------------\n",
    "output_classes = np.argmax(output, axis=2).astype(np.uint8)\n",
    "output_class_fn = os.path.basename(naip_fn) + \"_class.tif\"\n",
    "\n",
    "current_profile = naip_profile.copy()\n",
    "current_profile['driver'] = 'GTiff'\n",
    "current_profile['dtype'] = 'uint8'\n",
    "current_profile['count'] = 1\n",
    "current_profile['compress'] = \"lzw\"\n",
    "f = rasterio.open(os.path.join(output_class_fn), 'w', **current_profile)\n",
    "f.write(output_classes, 1)\n",
    "f.close()\n",
    "\n",
    "print(\"Finished iteration in %0.4f seconds\" % (time.time() - tic))"
   ]
  },
  {
   "cell_type": "code",
   "execution_count": null,
   "metadata": {},
   "outputs": [],
   "source": []
  }
 ],
 "metadata": {
  "kernelspec": {
   "display_name": "Python 3",
   "language": "python",
   "name": "python3"
  },
  "language_info": {
   "codemirror_mode": {
    "name": "ipython",
    "version": 3
   },
   "file_extension": ".py",
   "mimetype": "text/x-python",
   "name": "python",
   "nbconvert_exporter": "python",
   "pygments_lexer": "ipython3",
   "version": "3.7.6"
  }
 },
 "nbformat": 4,
 "nbformat_minor": 4
}
